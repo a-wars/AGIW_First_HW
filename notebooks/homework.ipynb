{
 "cells": [
  {
   "cell_type": "markdown",
   "metadata": {},
   "source": [
    "# AGIW First Homework\n",
    "---\n",
    "## 1. Read csv file\n",
    "---\n",
    "Read the csv file using Pandas utilities"
   ]
  },
  {
   "cell_type": "code",
   "execution_count": 1,
   "metadata": {},
   "outputs": [
    {
     "data": {
      "text/plain": [
       "'../tag_hist/data/tuttoandroid/2019-03-26T17-18-10.csv'"
      ]
     },
     "execution_count": 1,
     "metadata": {},
     "output_type": "execute_result"
    }
   ],
   "source": [
    "%matplotlib inline\n",
    "# Importing libraries\n",
    "import matplotlib.pyplot as plt\n",
    "import pandas as pd\n",
    "\n",
    "FILEPATH_PREFIX = '../tag_hist/data'\n",
    "SPIDERNAME = 'tuttoandroid'\n",
    "FILENAME = '2019-03-26T17-18-10.csv'\n",
    "FILEPATH = '{}/{}/{}'.format(FILEPATH_PREFIX, SPIDERNAME, FILENAME)\n",
    "FILEPATH"
   ]
  },
  {
   "cell_type": "code",
   "execution_count": 2,
   "metadata": {},
   "outputs": [],
   "source": [
    "df = pd.read_csv(FILEPATH)"
   ]
  },
  {
   "cell_type": "markdown",
   "metadata": {},
   "source": [
    "## 2. Data analysis\n",
    "---\n",
    "Some preliminary analysis of the dataset"
   ]
  },
  {
   "cell_type": "code",
   "execution_count": 3,
   "metadata": {},
   "outputs": [
    {
     "name": "stdout",
     "output_type": "stream",
     "text": [
      "First 5 rows\n",
      "------------\n"
     ]
    },
    {
     "data": {
      "text/html": [
       "<div>\n",
       "<style scoped>\n",
       "    .dataframe tbody tr th:only-of-type {\n",
       "        vertical-align: middle;\n",
       "    }\n",
       "\n",
       "    .dataframe tbody tr th {\n",
       "        vertical-align: top;\n",
       "    }\n",
       "\n",
       "    .dataframe thead th {\n",
       "        text-align: right;\n",
       "    }\n",
       "</style>\n",
       "<table border=\"1\" class=\"dataframe\">\n",
       "  <thead>\n",
       "    <tr style=\"text-align: right;\">\n",
       "      <th></th>\n",
       "      <th>url</th>\n",
       "      <th>tags</th>\n",
       "      <th>0</th>\n",
       "      <th>1</th>\n",
       "      <th>2</th>\n",
       "      <th>3</th>\n",
       "      <th>4</th>\n",
       "      <th>5</th>\n",
       "      <th>6</th>\n",
       "      <th>7</th>\n",
       "      <th>...</th>\n",
       "      <th>2038</th>\n",
       "      <th>2039</th>\n",
       "      <th>2040</th>\n",
       "      <th>2041</th>\n",
       "      <th>2042</th>\n",
       "      <th>2043</th>\n",
       "      <th>2044</th>\n",
       "      <th>2045</th>\n",
       "      <th>2046</th>\n",
       "      <th>2047</th>\n",
       "    </tr>\n",
       "  </thead>\n",
       "  <tbody>\n",
       "    <tr>\n",
       "      <th>0</th>\n",
       "      <td>https://www.tuttoandroid.net/contatti/</td>\n",
       "      <td>187</td>\n",
       "      <td>1</td>\n",
       "      <td>0</td>\n",
       "      <td>0</td>\n",
       "      <td>1</td>\n",
       "      <td>0</td>\n",
       "      <td>1</td>\n",
       "      <td>1</td>\n",
       "      <td>0</td>\n",
       "      <td>...</td>\n",
       "      <td>1</td>\n",
       "      <td>1</td>\n",
       "      <td>0</td>\n",
       "      <td>1</td>\n",
       "      <td>0</td>\n",
       "      <td>1</td>\n",
       "      <td>0</td>\n",
       "      <td>0</td>\n",
       "      <td>1</td>\n",
       "      <td>1</td>\n",
       "    </tr>\n",
       "    <tr>\n",
       "      <th>1</th>\n",
       "      <td>https://www.tuttoandroid.net/redazione/</td>\n",
       "      <td>206</td>\n",
       "      <td>1</td>\n",
       "      <td>0</td>\n",
       "      <td>0</td>\n",
       "      <td>1</td>\n",
       "      <td>0</td>\n",
       "      <td>1</td>\n",
       "      <td>1</td>\n",
       "      <td>1</td>\n",
       "      <td>...</td>\n",
       "      <td>0</td>\n",
       "      <td>1</td>\n",
       "      <td>0</td>\n",
       "      <td>1</td>\n",
       "      <td>1</td>\n",
       "      <td>0</td>\n",
       "      <td>1</td>\n",
       "      <td>0</td>\n",
       "      <td>1</td>\n",
       "      <td>1</td>\n",
       "    </tr>\n",
       "    <tr>\n",
       "      <th>2</th>\n",
       "      <td>https://www.tuttoandroid.net/pubblicita/</td>\n",
       "      <td>177</td>\n",
       "      <td>1</td>\n",
       "      <td>0</td>\n",
       "      <td>0</td>\n",
       "      <td>1</td>\n",
       "      <td>0</td>\n",
       "      <td>1</td>\n",
       "      <td>1</td>\n",
       "      <td>0</td>\n",
       "      <td>...</td>\n",
       "      <td>0</td>\n",
       "      <td>1</td>\n",
       "      <td>0</td>\n",
       "      <td>1</td>\n",
       "      <td>0</td>\n",
       "      <td>0</td>\n",
       "      <td>1</td>\n",
       "      <td>0</td>\n",
       "      <td>1</td>\n",
       "      <td>1</td>\n",
       "    </tr>\n",
       "    <tr>\n",
       "      <th>3</th>\n",
       "      <td>https://www.tuttoandroid.net</td>\n",
       "      <td>94</td>\n",
       "      <td>1</td>\n",
       "      <td>0</td>\n",
       "      <td>0</td>\n",
       "      <td>0</td>\n",
       "      <td>0</td>\n",
       "      <td>1</td>\n",
       "      <td>1</td>\n",
       "      <td>0</td>\n",
       "      <td>...</td>\n",
       "      <td>0</td>\n",
       "      <td>1</td>\n",
       "      <td>0</td>\n",
       "      <td>1</td>\n",
       "      <td>0</td>\n",
       "      <td>0</td>\n",
       "      <td>0</td>\n",
       "      <td>0</td>\n",
       "      <td>1</td>\n",
       "      <td>1</td>\n",
       "    </tr>\n",
       "    <tr>\n",
       "      <th>4</th>\n",
       "      <td>https://www.tuttoandroid.net/disclaimer/</td>\n",
       "      <td>167</td>\n",
       "      <td>1</td>\n",
       "      <td>0</td>\n",
       "      <td>1</td>\n",
       "      <td>1</td>\n",
       "      <td>0</td>\n",
       "      <td>1</td>\n",
       "      <td>1</td>\n",
       "      <td>0</td>\n",
       "      <td>...</td>\n",
       "      <td>0</td>\n",
       "      <td>1</td>\n",
       "      <td>0</td>\n",
       "      <td>1</td>\n",
       "      <td>0</td>\n",
       "      <td>0</td>\n",
       "      <td>1</td>\n",
       "      <td>0</td>\n",
       "      <td>1</td>\n",
       "      <td>1</td>\n",
       "    </tr>\n",
       "  </tbody>\n",
       "</table>\n",
       "<p>5 rows × 2050 columns</p>\n",
       "</div>"
      ],
      "text/plain": [
       "                                        url  tags  0  1  2  3  4  5  6  7  \\\n",
       "0    https://www.tuttoandroid.net/contatti/   187  1  0  0  1  0  1  1  0   \n",
       "1   https://www.tuttoandroid.net/redazione/   206  1  0  0  1  0  1  1  1   \n",
       "2  https://www.tuttoandroid.net/pubblicita/   177  1  0  0  1  0  1  1  0   \n",
       "3              https://www.tuttoandroid.net    94  1  0  0  0  0  1  1  0   \n",
       "4  https://www.tuttoandroid.net/disclaimer/   167  1  0  1  1  0  1  1  0   \n",
       "\n",
       "   ...   2038  2039  2040  2041  2042  2043  2044  2045  2046  2047  \n",
       "0  ...      1     1     0     1     0     1     0     0     1     1  \n",
       "1  ...      0     1     0     1     1     0     1     0     1     1  \n",
       "2  ...      0     1     0     1     0     0     1     0     1     1  \n",
       "3  ...      0     1     0     1     0     0     0     0     1     1  \n",
       "4  ...      0     1     0     1     0     0     1     0     1     1  \n",
       "\n",
       "[5 rows x 2050 columns]"
      ]
     },
     "execution_count": 3,
     "metadata": {},
     "output_type": "execute_result"
    }
   ],
   "source": [
    "print(\"First 5 rows\")\n",
    "print(\"------------\")\n",
    "df.head()"
   ]
  },
  {
   "cell_type": "code",
   "execution_count": 4,
   "metadata": {},
   "outputs": [
    {
     "name": "stdout",
     "output_type": "stream",
     "text": [
      "No. of rows and columns\n",
      "-----------------------\n"
     ]
    },
    {
     "data": {
      "text/plain": [
       "(18846, 2050)"
      ]
     },
     "execution_count": 4,
     "metadata": {},
     "output_type": "execute_result"
    }
   ],
   "source": [
    "print(\"No. of rows and columns\")\n",
    "print(\"-----------------------\")\n",
    "df.shape"
   ]
  },
  {
   "cell_type": "code",
   "execution_count": 5,
   "metadata": {},
   "outputs": [
    {
     "name": "stdout",
     "output_type": "stream",
     "text": [
      "Check null values\n",
      "-----------------\n"
     ]
    },
    {
     "data": {
      "text/plain": [
       "False"
      ]
     },
     "execution_count": 5,
     "metadata": {},
     "output_type": "execute_result"
    }
   ],
   "source": [
    "print(\"Check null values\")\n",
    "print(\"-----------------\")\n",
    "df.isnull().any().any()"
   ]
  },
  {
   "cell_type": "code",
   "execution_count": 6,
   "metadata": {},
   "outputs": [
    {
     "name": "stdout",
     "output_type": "stream",
     "text": [
      "Check duplicate values\n",
      "----------------------\n"
     ]
    },
    {
     "data": {
      "text/plain": [
       "False"
      ]
     },
     "execution_count": 6,
     "metadata": {},
     "output_type": "execute_result"
    }
   ],
   "source": [
    "print(\"Check duplicate values\")\n",
    "print(\"----------------------\")\n",
    "len(df['url'].unique()) != df.shape[0]"
   ]
  },
  {
   "cell_type": "code",
   "execution_count": 7,
   "metadata": {},
   "outputs": [
    {
     "name": "stdout",
     "output_type": "stream",
     "text": [
      "DataFrame column types\n",
      "----------------------\n",
      "<class 'pandas.core.frame.DataFrame'>\n",
      "RangeIndex: 18846 entries, 0 to 18845\n",
      "Columns: 2050 entries, url to 2047\n",
      "dtypes: int64(2049), object(1)\n",
      "memory usage: 294.8+ MB\n"
     ]
    }
   ],
   "source": [
    "print(\"DataFrame column types\")\n",
    "print(\"----------------------\")\n",
    "df.info()"
   ]
  },
  {
   "cell_type": "code",
   "execution_count": 8,
   "metadata": {},
   "outputs": [
    {
     "name": "stdout",
     "output_type": "stream",
     "text": [
      "Some stats\n",
      "----------------\n"
     ]
    },
    {
     "data": {
      "text/plain": [
       "count    18846.000000\n",
       "mean       239.309243\n",
       "std         93.775312\n",
       "min         84.000000\n",
       "25%        196.000000\n",
       "50%        206.000000\n",
       "75%        238.000000\n",
       "max       2389.000000\n",
       "Name: tags, dtype: float64"
      ]
     },
     "execution_count": 8,
     "metadata": {},
     "output_type": "execute_result"
    }
   ],
   "source": [
    "print(\"Some stats\")\n",
    "print(\"----------------\")\n",
    "df['tags'].describe()"
   ]
  },
  {
   "cell_type": "markdown",
   "metadata": {},
   "source": [
    "## 3. Find templates\n",
    "---\n",
    "Plot a histogram of the number of tags of each crawled page to estabilish the number of templates (and clusters)"
   ]
  },
  {
   "cell_type": "code",
   "execution_count": 9,
   "metadata": {},
   "outputs": [
    {
     "data": {
      "text/plain": [
       "<matplotlib.axes._subplots.AxesSubplot at 0x121b5b208>"
      ]
     },
     "execution_count": 9,
     "metadata": {},
     "output_type": "execute_result"
    },
    {
     "data": {
      "image/png": "[encoded data removed]",
      "text/plain": [
       "<Figure size 864x864 with 1 Axes>"
      ]
     },
     "metadata": {
      "needs_background": "light"
     },
     "output_type": "display_data"
    }
   ],
   "source": [
    "df['tags'].hist(bins = 100, figsize = (12,12))"
   ]
  },
  {
   "cell_type": "markdown",
   "metadata": {},
   "source": [
    "Let's investigate which templates are associated with the peaks of the histogram above.\n",
    "\n",
    "---\n",
    "\n",
    "### Plotting the first peak of the histogram"
   ]
  },
  {
   "cell_type": "code",
   "execution_count": 10,
   "metadata": {},
   "outputs": [
    {
     "data": {
      "text/plain": [
       "(150, 400)"
      ]
     },
     "execution_count": 10,
     "metadata": {},
     "output_type": "execute_result"
    },
    {
     "data": {
      "image/png": "[encoded data removed]",
      "text/plain": [
       "<Figure size 864x864 with 1 Axes>"
      ]
     },
     "metadata": {
      "needs_background": "light"
     },
     "output_type": "display_data"
    }
   ],
   "source": [
    "df.hist(column = 'tags', bins = 100, figsize = (12,12))\n",
    "plt.xlim(150, 400)"
   ]
  },
  {
   "cell_type": "code",
   "execution_count": 11,
   "metadata": {
    "scrolled": true
   },
   "outputs": [
    {
     "data": {
      "text/plain": [
       "0     https://www.tuttoandroid.net/contatti/                                               \n",
       "1     https://www.tuttoandroid.net/redazione/                                              \n",
       "2     https://www.tuttoandroid.net/pubblicita/                                             \n",
       "11    https://www.tuttoandroid.net/huawei/prova-huawei-mate-x-smartphone-pieghevole-661795/\n",
       "12    https://www.tuttoandroid.net/huawei/video-anteprima-huawei-mate-x-656693/            \n",
       "Name: url, dtype: object"
      ]
     },
     "execution_count": 11,
     "metadata": {},
     "output_type": "execute_result"
    }
   ],
   "source": [
    "# environment settings:\n",
    "pd.set_option('display.max_colwidth', -1)\n",
    "df[(df['tags']>=170) & (df['tags']<=220)]['url'].head()"
   ]
  },
  {
   "cell_type": "markdown",
   "metadata": {},
   "source": [
    "The first peak seems to be related to each article page of _tuttoandroid.net_.\n",
    "\n",
    "---\n",
    "\n",
    "### Plotting the second peak of the histogram"
   ]
  },
  {
   "cell_type": "code",
   "execution_count": 12,
   "metadata": {},
   "outputs": [
    {
     "data": {
      "text/plain": [
       "(0, 2000)"
      ]
     },
     "execution_count": 12,
     "metadata": {},
     "output_type": "execute_result"
    },
    {
     "data": {
      "image/png": "[encoded data removed]",
      "text/plain": [
       "<Figure size 864x864 with 1 Axes>"
      ]
     },
     "metadata": {
      "needs_background": "light"
     },
     "output_type": "display_data"
    }
   ],
   "source": [
    "df.hist(column = 'tags', bins = 100, figsize = (12,12))\n",
    "plt.xlim(400, 500)\n",
    "plt.ylim(0, 2000)"
   ]
  },
  {
   "cell_type": "code",
   "execution_count": 13,
   "metadata": {},
   "outputs": [
    {
     "data": {
      "text/plain": [
       "6     https://www.tuttoandroid.net/author/admin/                        \n",
       "8     https://www.tuttoandroid.net/recensioni/samsung-galaxy-s10-664600/\n",
       "13    https://www.tuttoandroid.net/zte/                                 \n",
       "17    https://www.tuttoandroid.net/oppo/                                \n",
       "23    https://www.tuttoandroid.net/tag/chromecast/                      \n",
       "Name: url, dtype: object"
      ]
     },
     "execution_count": 13,
     "metadata": {},
     "output_type": "execute_result"
    }
   ],
   "source": [
    "df[(df['tags']>=410) & (df['tags']<=430)]['url'].head()"
   ]
  },
  {
   "cell_type": "markdown",
   "metadata": {},
   "source": [
    "The second peak is instead associated to the pages that show the list of articles in the website.\n",
    "\n",
    "---\n",
    "\n",
    "### Add ground truth labels\n",
    "\n",
    "Once we have found the number of templates in the site we have to add a column in the dataframe which specifies the template associated with each page.\n",
    "First we need to define a regex for each template found."
   ]
  },
  {
   "cell_type": "code",
   "execution_count": 35,
   "metadata": {},
   "outputs": [
    {
     "name": "stdout",
     "output_type": "stream",
     "text": [
      "Testing article regex:\n",
      "Only the first 7 urls should be matching with the article regex\n",
      "---------------------------------------------------------------\n",
      "<re.Match object; span=(0, 37), match='https://www.tuttoandroid.net/contatti'>\n",
      "<re.Match object; span=(0, 38), match='https://www.tuttoandroid.net/redazione'>\n",
      "<re.Match object; span=(0, 39), match='https://www.tuttoandroid.net/pubblicita'>\n",
      "<re.Match object; span=(0, 112), match='https://www.tuttoandroid.net/google/android-q-sfi>\n",
      "<re.Match object; span=(0, 76), match='https://www.tuttoandroid.net/android/prima-rom-de>\n",
      "<re.Match object; span=(0, 86), match='https://www.tuttoandroid.net/android/android-ging>\n",
      "<re.Match object; span=(0, 73), match='https://www.tuttoandroid.net/huawei/video-antepri>\n",
      "None\n",
      "None\n",
      "None\n",
      "None\n",
      "\n",
      "\n",
      "Testing article regex:\n",
      "Only the last 4 urls should be matching with the list regex\n",
      "-----------------------------------------------------------\n",
      "None\n",
      "None\n",
      "None\n",
      "None\n",
      "None\n",
      "None\n",
      "None\n",
      "<re.Match object; span=(0, 33), match='https://www.tuttoandroid.net/zte/'>\n",
      "<re.Match object; span=(0, 34), match='https://www.tuttoandroid.net/oppo/'>\n",
      "<re.Match object; span=(0, 43), match='https://www.tuttoandroid.net/huawei/page/4/'>\n",
      "<re.Match object; span=(0, 44), match='https://www.tuttoandroid.net/tag/chromecast/'>\n"
     ]
    }
   ],
   "source": [
    "import re\n",
    "\n",
    "#urls associated with the first template (article template)\n",
    "test_strings1 = ['https://www.tuttoandroid.net/contatti/',\n",
    "               'https://www.tuttoandroid.net/redazione/',\n",
    "               'https://www.tuttoandroid.net/pubblicita/',\n",
    "               'https://www.tuttoandroid.net/google/android-q-sfida-le-precedenti-versioni-dellos-in-un-video-speed-test-667434/',\n",
    "               'https://www.tuttoandroid.net/android/prima-rom-del-samsung-galaxy-s-2-13052/',\n",
    "               'https://www.tuttoandroid.net/android/android-gingerbread-2-3-primo-screen-shoot-12130/',\n",
    "               'https://www.tuttoandroid.net/huawei/video-anteprima-huawei-mate-x-656693/']\n",
    "\n",
    "#urls associated with the second template (list template)\n",
    "test_strings2 = ['https://www.tuttoandroid.net/zte/',\n",
    "                'https://www.tuttoandroid.net/oppo/',\n",
    "                'https://www.tuttoandroid.net/huawei/page/4/',\n",
    "                'https://www.tuttoandroid.net/tag/chromecast/']\n",
    "\n",
    "\n",
    "test_strings = test_strings1 + test_strings2\n",
    "\n",
    "#article template\n",
    "article_regex = r'^https\\:\\/\\/www\\.tuttoandroid.net\\/(contatti|redazione|pubblicita)|(.+\\-[0-9]+)\\/$'\n",
    "\n",
    "#list template\n",
    "list_regex = r'^https\\:\\/\\/www\\.tuttoandroid.net\\/(?!(contatti|redazione|pubblicita)).+((\\/page\\/[0-9]+)|([^-][^0123456789]+))\\/$'\n",
    "\n",
    "# simple tests\n",
    "print(\"Testing article regex:\")\n",
    "print(\"Only the first 7 urls should be matching with the article regex\")\n",
    "print(\"---------------------------------------------------------------\")\n",
    "\n",
    "for uri in test_strings:\n",
    "    print(re.match(article_regex, uri))\n",
    "    \n",
    "print()\n",
    "print()\n",
    "\n",
    "print(\"Testing article regex:\")\n",
    "print(\"Only the last 4 urls should be matching with the list regex\")\n",
    "print(\"-----------------------------------------------------------\")\n",
    "\n",
    "for uri in test_strings:\n",
    "    print(re.match(list_regex, uri))"
   ]
  },
  {
   "cell_type": "markdown",
   "metadata": {},
   "source": [
    "### Add ``label`` column for each row of the DataFrame"
   ]
  },
  {
   "cell_type": "code",
   "execution_count": 15,
   "metadata": {},
   "outputs": [
    {
     "data": {
      "text/html": [
       "<div>\n",
       "<style scoped>\n",
       "    .dataframe tbody tr th:only-of-type {\n",
       "        vertical-align: middle;\n",
       "    }\n",
       "\n",
       "    .dataframe tbody tr th {\n",
       "        vertical-align: top;\n",
       "    }\n",
       "\n",
       "    .dataframe thead th {\n",
       "        text-align: right;\n",
       "    }\n",
       "</style>\n",
       "<table border=\"1\" class=\"dataframe\">\n",
       "  <thead>\n",
       "    <tr style=\"text-align: right;\">\n",
       "      <th></th>\n",
       "      <th>url</th>\n",
       "      <th>tags</th>\n",
       "      <th>0</th>\n",
       "      <th>1</th>\n",
       "      <th>2</th>\n",
       "      <th>3</th>\n",
       "      <th>4</th>\n",
       "      <th>5</th>\n",
       "      <th>6</th>\n",
       "      <th>7</th>\n",
       "      <th>...</th>\n",
       "      <th>2039</th>\n",
       "      <th>2040</th>\n",
       "      <th>2041</th>\n",
       "      <th>2042</th>\n",
       "      <th>2043</th>\n",
       "      <th>2044</th>\n",
       "      <th>2045</th>\n",
       "      <th>2046</th>\n",
       "      <th>2047</th>\n",
       "      <th>label</th>\n",
       "    </tr>\n",
       "  </thead>\n",
       "  <tbody>\n",
       "    <tr>\n",
       "      <th>0</th>\n",
       "      <td>https://www.tuttoandroid.net/contatti/</td>\n",
       "      <td>187</td>\n",
       "      <td>1</td>\n",
       "      <td>0</td>\n",
       "      <td>0</td>\n",
       "      <td>1</td>\n",
       "      <td>0</td>\n",
       "      <td>1</td>\n",
       "      <td>1</td>\n",
       "      <td>0</td>\n",
       "      <td>...</td>\n",
       "      <td>1</td>\n",
       "      <td>0</td>\n",
       "      <td>1</td>\n",
       "      <td>0</td>\n",
       "      <td>1</td>\n",
       "      <td>0</td>\n",
       "      <td>0</td>\n",
       "      <td>1</td>\n",
       "      <td>1</td>\n",
       "      <td>None</td>\n",
       "    </tr>\n",
       "    <tr>\n",
       "      <th>1</th>\n",
       "      <td>https://www.tuttoandroid.net/redazione/</td>\n",
       "      <td>206</td>\n",
       "      <td>1</td>\n",
       "      <td>0</td>\n",
       "      <td>0</td>\n",
       "      <td>1</td>\n",
       "      <td>0</td>\n",
       "      <td>1</td>\n",
       "      <td>1</td>\n",
       "      <td>1</td>\n",
       "      <td>...</td>\n",
       "      <td>1</td>\n",
       "      <td>0</td>\n",
       "      <td>1</td>\n",
       "      <td>1</td>\n",
       "      <td>0</td>\n",
       "      <td>1</td>\n",
       "      <td>0</td>\n",
       "      <td>1</td>\n",
       "      <td>1</td>\n",
       "      <td>None</td>\n",
       "    </tr>\n",
       "    <tr>\n",
       "      <th>2</th>\n",
       "      <td>https://www.tuttoandroid.net/pubblicita/</td>\n",
       "      <td>177</td>\n",
       "      <td>1</td>\n",
       "      <td>0</td>\n",
       "      <td>0</td>\n",
       "      <td>1</td>\n",
       "      <td>0</td>\n",
       "      <td>1</td>\n",
       "      <td>1</td>\n",
       "      <td>0</td>\n",
       "      <td>...</td>\n",
       "      <td>1</td>\n",
       "      <td>0</td>\n",
       "      <td>1</td>\n",
       "      <td>0</td>\n",
       "      <td>0</td>\n",
       "      <td>1</td>\n",
       "      <td>0</td>\n",
       "      <td>1</td>\n",
       "      <td>1</td>\n",
       "      <td>None</td>\n",
       "    </tr>\n",
       "    <tr>\n",
       "      <th>3</th>\n",
       "      <td>https://www.tuttoandroid.net</td>\n",
       "      <td>94</td>\n",
       "      <td>1</td>\n",
       "      <td>0</td>\n",
       "      <td>0</td>\n",
       "      <td>0</td>\n",
       "      <td>0</td>\n",
       "      <td>1</td>\n",
       "      <td>1</td>\n",
       "      <td>0</td>\n",
       "      <td>...</td>\n",
       "      <td>1</td>\n",
       "      <td>0</td>\n",
       "      <td>1</td>\n",
       "      <td>0</td>\n",
       "      <td>0</td>\n",
       "      <td>0</td>\n",
       "      <td>0</td>\n",
       "      <td>1</td>\n",
       "      <td>1</td>\n",
       "      <td>None</td>\n",
       "    </tr>\n",
       "    <tr>\n",
       "      <th>4</th>\n",
       "      <td>https://www.tuttoandroid.net/disclaimer/</td>\n",
       "      <td>167</td>\n",
       "      <td>1</td>\n",
       "      <td>0</td>\n",
       "      <td>1</td>\n",
       "      <td>1</td>\n",
       "      <td>0</td>\n",
       "      <td>1</td>\n",
       "      <td>1</td>\n",
       "      <td>0</td>\n",
       "      <td>...</td>\n",
       "      <td>1</td>\n",
       "      <td>0</td>\n",
       "      <td>1</td>\n",
       "      <td>0</td>\n",
       "      <td>0</td>\n",
       "      <td>1</td>\n",
       "      <td>0</td>\n",
       "      <td>1</td>\n",
       "      <td>1</td>\n",
       "      <td>None</td>\n",
       "    </tr>\n",
       "  </tbody>\n",
       "</table>\n",
       "<p>5 rows × 2051 columns</p>\n",
       "</div>"
      ],
      "text/plain": [
       "                                        url  tags  0  1  2  3  4  5  6  7  \\\n",
       "0  https://www.tuttoandroid.net/contatti/    187   1  0  0  1  0  1  1  0   \n",
       "1  https://www.tuttoandroid.net/redazione/   206   1  0  0  1  0  1  1  1   \n",
       "2  https://www.tuttoandroid.net/pubblicita/  177   1  0  0  1  0  1  1  0   \n",
       "3  https://www.tuttoandroid.net              94    1  0  0  0  0  1  1  0   \n",
       "4  https://www.tuttoandroid.net/disclaimer/  167   1  0  1  1  0  1  1  0   \n",
       "\n",
       "   ...    2039  2040  2041  2042  2043  2044  2045  2046  2047  label  \n",
       "0  ...    1     0     1     0     1     0     0     1     1     None   \n",
       "1  ...    1     0     1     1     0     1     0     1     1     None   \n",
       "2  ...    1     0     1     0     0     1     0     1     1     None   \n",
       "3  ...    1     0     1     0     0     0     0     1     1     None   \n",
       "4  ...    1     0     1     0     0     1     0     1     1     None   \n",
       "\n",
       "[5 rows x 2051 columns]"
      ]
     },
     "execution_count": 15,
     "metadata": {},
     "output_type": "execute_result"
    }
   ],
   "source": [
    "df_with_labels = df.copy()\n",
    "df_with_labels['label'] = None\n",
    "df_with_labels.head()"
   ]
  },
  {
   "cell_type": "code",
   "execution_count": 16,
   "metadata": {},
   "outputs": [
    {
     "name": "stdout",
     "output_type": "stream",
     "text": [
      "There should be no row with 'collision' label\n",
      "---------------------------------------------\n"
     ]
    },
    {
     "data": {
      "text/html": [
       "<div>\n",
       "<style scoped>\n",
       "    .dataframe tbody tr th:only-of-type {\n",
       "        vertical-align: middle;\n",
       "    }\n",
       "\n",
       "    .dataframe tbody tr th {\n",
       "        vertical-align: top;\n",
       "    }\n",
       "\n",
       "    .dataframe thead th {\n",
       "        text-align: right;\n",
       "    }\n",
       "</style>\n",
       "<table border=\"1\" class=\"dataframe\">\n",
       "  <thead>\n",
       "    <tr style=\"text-align: right;\">\n",
       "      <th></th>\n",
       "      <th>url</th>\n",
       "      <th>tags</th>\n",
       "      <th>0</th>\n",
       "      <th>1</th>\n",
       "      <th>2</th>\n",
       "      <th>3</th>\n",
       "      <th>4</th>\n",
       "      <th>5</th>\n",
       "      <th>6</th>\n",
       "      <th>7</th>\n",
       "      <th>...</th>\n",
       "      <th>2039</th>\n",
       "      <th>2040</th>\n",
       "      <th>2041</th>\n",
       "      <th>2042</th>\n",
       "      <th>2043</th>\n",
       "      <th>2044</th>\n",
       "      <th>2045</th>\n",
       "      <th>2046</th>\n",
       "      <th>2047</th>\n",
       "      <th>label</th>\n",
       "    </tr>\n",
       "  </thead>\n",
       "  <tbody>\n",
       "  </tbody>\n",
       "</table>\n",
       "<p>0 rows × 2051 columns</p>\n",
       "</div>"
      ],
      "text/plain": [
       "Empty DataFrame\n",
       "Columns: [url, tags, 0, 1, 2, 3, 4, 5, 6, 7, 8, 9, 10, 11, 12, 13, 14, 15, 16, 17, 18, 19, 20, 21, 22, 23, 24, 25, 26, 27, 28, 29, 30, 31, 32, 33, 34, 35, 36, 37, 38, 39, 40, 41, 42, 43, 44, 45, 46, 47, 48, 49, 50, 51, 52, 53, 54, 55, 56, 57, 58, 59, 60, 61, 62, 63, 64, 65, 66, 67, 68, 69, 70, 71, 72, 73, 74, 75, 76, 77, 78, 79, 80, 81, 82, 83, 84, 85, 86, 87, 88, 89, 90, 91, 92, 93, 94, 95, 96, 97, ...]\n",
       "Index: []\n",
       "\n",
       "[0 rows x 2051 columns]"
      ]
     },
     "execution_count": 16,
     "metadata": {},
     "output_type": "execute_result"
    }
   ],
   "source": [
    "def set_label(url, regex, old_label, new_label):\n",
    "    if re.match(regex, url):\n",
    "        if old_label is None:\n",
    "            return new_label\n",
    "        else:\n",
    "            return 'collision'\n",
    "    else:\n",
    "        return old_label\n",
    "\n",
    "\n",
    "df_with_labels['label'] = df_with_labels.apply(lambda x: set_label(x['url'], article_regex, x['label'], 'article'), axis=1)\n",
    "print(\"There should be no row with 'collision' label\")\n",
    "print(\"---------------------------------------------\")\n",
    "df_with_labels[df_with_labels['label']=='collision'].head()"
   ]
  },
  {
   "cell_type": "code",
   "execution_count": 17,
   "metadata": {},
   "outputs": [
    {
     "name": "stdout",
     "output_type": "stream",
     "text": [
      "There should be no row with 'collision' label\n",
      "---------------------------------------------\n"
     ]
    },
    {
     "data": {
      "text/html": [
       "<div>\n",
       "<style scoped>\n",
       "    .dataframe tbody tr th:only-of-type {\n",
       "        vertical-align: middle;\n",
       "    }\n",
       "\n",
       "    .dataframe tbody tr th {\n",
       "        vertical-align: top;\n",
       "    }\n",
       "\n",
       "    .dataframe thead th {\n",
       "        text-align: right;\n",
       "    }\n",
       "</style>\n",
       "<table border=\"1\" class=\"dataframe\">\n",
       "  <thead>\n",
       "    <tr style=\"text-align: right;\">\n",
       "      <th></th>\n",
       "      <th>url</th>\n",
       "      <th>tags</th>\n",
       "      <th>0</th>\n",
       "      <th>1</th>\n",
       "      <th>2</th>\n",
       "      <th>3</th>\n",
       "      <th>4</th>\n",
       "      <th>5</th>\n",
       "      <th>6</th>\n",
       "      <th>7</th>\n",
       "      <th>...</th>\n",
       "      <th>2039</th>\n",
       "      <th>2040</th>\n",
       "      <th>2041</th>\n",
       "      <th>2042</th>\n",
       "      <th>2043</th>\n",
       "      <th>2044</th>\n",
       "      <th>2045</th>\n",
       "      <th>2046</th>\n",
       "      <th>2047</th>\n",
       "      <th>label</th>\n",
       "    </tr>\n",
       "  </thead>\n",
       "  <tbody>\n",
       "  </tbody>\n",
       "</table>\n",
       "<p>0 rows × 2051 columns</p>\n",
       "</div>"
      ],
      "text/plain": [
       "Empty DataFrame\n",
       "Columns: [url, tags, 0, 1, 2, 3, 4, 5, 6, 7, 8, 9, 10, 11, 12, 13, 14, 15, 16, 17, 18, 19, 20, 21, 22, 23, 24, 25, 26, 27, 28, 29, 30, 31, 32, 33, 34, 35, 36, 37, 38, 39, 40, 41, 42, 43, 44, 45, 46, 47, 48, 49, 50, 51, 52, 53, 54, 55, 56, 57, 58, 59, 60, 61, 62, 63, 64, 65, 66, 67, 68, 69, 70, 71, 72, 73, 74, 75, 76, 77, 78, 79, 80, 81, 82, 83, 84, 85, 86, 87, 88, 89, 90, 91, 92, 93, 94, 95, 96, 97, ...]\n",
       "Index: []\n",
       "\n",
       "[0 rows x 2051 columns]"
      ]
     },
     "execution_count": 17,
     "metadata": {},
     "output_type": "execute_result"
    }
   ],
   "source": [
    "df_with_labels['label'] = df_with_labels.apply(lambda x: set_label(x['url'], list_regex, x['label'], 'list'), axis=1)\n",
    "print(\"There should be no row with 'collision' label\")\n",
    "print(\"---------------------------------------------\")\n",
    "df_with_labels[df_with_labels['label']=='collision'].head()"
   ]
  },
  {
   "cell_type": "markdown",
   "metadata": {},
   "source": [
    "Unfortunately there are some rows which aren't labeled neither as ``template`` or as ``list``"
   ]
  },
  {
   "cell_type": "code",
   "execution_count": 18,
   "metadata": {},
   "outputs": [
    {
     "data": {
      "text/html": [
       "<div>\n",
       "<style scoped>\n",
       "    .dataframe tbody tr th:only-of-type {\n",
       "        vertical-align: middle;\n",
       "    }\n",
       "\n",
       "    .dataframe tbody tr th {\n",
       "        vertical-align: top;\n",
       "    }\n",
       "\n",
       "    .dataframe thead th {\n",
       "        text-align: right;\n",
       "    }\n",
       "</style>\n",
       "<table border=\"1\" class=\"dataframe\">\n",
       "  <thead>\n",
       "    <tr style=\"text-align: right;\">\n",
       "      <th></th>\n",
       "      <th>url</th>\n",
       "      <th>tags</th>\n",
       "      <th>0</th>\n",
       "      <th>1</th>\n",
       "      <th>2</th>\n",
       "      <th>3</th>\n",
       "      <th>4</th>\n",
       "      <th>5</th>\n",
       "      <th>6</th>\n",
       "      <th>7</th>\n",
       "      <th>...</th>\n",
       "      <th>2039</th>\n",
       "      <th>2040</th>\n",
       "      <th>2041</th>\n",
       "      <th>2042</th>\n",
       "      <th>2043</th>\n",
       "      <th>2044</th>\n",
       "      <th>2045</th>\n",
       "      <th>2046</th>\n",
       "      <th>2047</th>\n",
       "      <th>label</th>\n",
       "    </tr>\n",
       "  </thead>\n",
       "  <tbody>\n",
       "    <tr>\n",
       "      <th>0</th>\n",
       "      <td>https://www.tuttoandroid.net/contatti/</td>\n",
       "      <td>187</td>\n",
       "      <td>1</td>\n",
       "      <td>0</td>\n",
       "      <td>0</td>\n",
       "      <td>1</td>\n",
       "      <td>0</td>\n",
       "      <td>1</td>\n",
       "      <td>1</td>\n",
       "      <td>0</td>\n",
       "      <td>...</td>\n",
       "      <td>1</td>\n",
       "      <td>0</td>\n",
       "      <td>1</td>\n",
       "      <td>0</td>\n",
       "      <td>1</td>\n",
       "      <td>0</td>\n",
       "      <td>0</td>\n",
       "      <td>1</td>\n",
       "      <td>1</td>\n",
       "      <td>article</td>\n",
       "    </tr>\n",
       "    <tr>\n",
       "      <th>1</th>\n",
       "      <td>https://www.tuttoandroid.net/redazione/</td>\n",
       "      <td>206</td>\n",
       "      <td>1</td>\n",
       "      <td>0</td>\n",
       "      <td>0</td>\n",
       "      <td>1</td>\n",
       "      <td>0</td>\n",
       "      <td>1</td>\n",
       "      <td>1</td>\n",
       "      <td>1</td>\n",
       "      <td>...</td>\n",
       "      <td>1</td>\n",
       "      <td>0</td>\n",
       "      <td>1</td>\n",
       "      <td>1</td>\n",
       "      <td>0</td>\n",
       "      <td>1</td>\n",
       "      <td>0</td>\n",
       "      <td>1</td>\n",
       "      <td>1</td>\n",
       "      <td>article</td>\n",
       "    </tr>\n",
       "    <tr>\n",
       "      <th>2</th>\n",
       "      <td>https://www.tuttoandroid.net/pubblicita/</td>\n",
       "      <td>177</td>\n",
       "      <td>1</td>\n",
       "      <td>0</td>\n",
       "      <td>0</td>\n",
       "      <td>1</td>\n",
       "      <td>0</td>\n",
       "      <td>1</td>\n",
       "      <td>1</td>\n",
       "      <td>0</td>\n",
       "      <td>...</td>\n",
       "      <td>1</td>\n",
       "      <td>0</td>\n",
       "      <td>1</td>\n",
       "      <td>0</td>\n",
       "      <td>0</td>\n",
       "      <td>1</td>\n",
       "      <td>0</td>\n",
       "      <td>1</td>\n",
       "      <td>1</td>\n",
       "      <td>article</td>\n",
       "    </tr>\n",
       "    <tr>\n",
       "      <th>3</th>\n",
       "      <td>https://www.tuttoandroid.net</td>\n",
       "      <td>94</td>\n",
       "      <td>1</td>\n",
       "      <td>0</td>\n",
       "      <td>0</td>\n",
       "      <td>0</td>\n",
       "      <td>0</td>\n",
       "      <td>1</td>\n",
       "      <td>1</td>\n",
       "      <td>0</td>\n",
       "      <td>...</td>\n",
       "      <td>1</td>\n",
       "      <td>0</td>\n",
       "      <td>1</td>\n",
       "      <td>0</td>\n",
       "      <td>0</td>\n",
       "      <td>0</td>\n",
       "      <td>0</td>\n",
       "      <td>1</td>\n",
       "      <td>1</td>\n",
       "      <td>None</td>\n",
       "    </tr>\n",
       "    <tr>\n",
       "      <th>4</th>\n",
       "      <td>https://www.tuttoandroid.net/disclaimer/</td>\n",
       "      <td>167</td>\n",
       "      <td>1</td>\n",
       "      <td>0</td>\n",
       "      <td>1</td>\n",
       "      <td>1</td>\n",
       "      <td>0</td>\n",
       "      <td>1</td>\n",
       "      <td>1</td>\n",
       "      <td>0</td>\n",
       "      <td>...</td>\n",
       "      <td>1</td>\n",
       "      <td>0</td>\n",
       "      <td>1</td>\n",
       "      <td>0</td>\n",
       "      <td>0</td>\n",
       "      <td>1</td>\n",
       "      <td>0</td>\n",
       "      <td>1</td>\n",
       "      <td>1</td>\n",
       "      <td>list</td>\n",
       "    </tr>\n",
       "  </tbody>\n",
       "</table>\n",
       "<p>5 rows × 2051 columns</p>\n",
       "</div>"
      ],
      "text/plain": [
       "                                        url  tags  0  1  2  3  4  5  6  7  \\\n",
       "0  https://www.tuttoandroid.net/contatti/    187   1  0  0  1  0  1  1  0   \n",
       "1  https://www.tuttoandroid.net/redazione/   206   1  0  0  1  0  1  1  1   \n",
       "2  https://www.tuttoandroid.net/pubblicita/  177   1  0  0  1  0  1  1  0   \n",
       "3  https://www.tuttoandroid.net              94    1  0  0  0  0  1  1  0   \n",
       "4  https://www.tuttoandroid.net/disclaimer/  167   1  0  1  1  0  1  1  0   \n",
       "\n",
       "    ...     2039  2040  2041  2042  2043  2044  2045  2046  2047    label  \n",
       "0   ...     1     0     1     0     1     0     0     1     1     article  \n",
       "1   ...     1     0     1     1     0     1     0     1     1     article  \n",
       "2   ...     1     0     1     0     0     1     0     1     1     article  \n",
       "3   ...     1     0     1     0     0     0     0     1     1     None     \n",
       "4   ...     1     0     1     0     0     1     0     1     1     list     \n",
       "\n",
       "[5 rows x 2051 columns]"
      ]
     },
     "execution_count": 18,
     "metadata": {},
     "output_type": "execute_result"
    }
   ],
   "source": [
    "df_with_labels.head()"
   ]
  },
  {
   "cell_type": "code",
   "execution_count": 19,
   "metadata": {
    "scrolled": true
   },
   "outputs": [
    {
     "data": {
      "text/html": [
       "<div>\n",
       "<style scoped>\n",
       "    .dataframe tbody tr th:only-of-type {\n",
       "        vertical-align: middle;\n",
       "    }\n",
       "\n",
       "    .dataframe tbody tr th {\n",
       "        vertical-align: top;\n",
       "    }\n",
       "\n",
       "    .dataframe thead th {\n",
       "        text-align: right;\n",
       "    }\n",
       "</style>\n",
       "<table border=\"1\" class=\"dataframe\">\n",
       "  <thead>\n",
       "    <tr style=\"text-align: right;\">\n",
       "      <th></th>\n",
       "      <th>url</th>\n",
       "      <th>tags</th>\n",
       "      <th>0</th>\n",
       "      <th>1</th>\n",
       "      <th>2</th>\n",
       "      <th>3</th>\n",
       "      <th>4</th>\n",
       "      <th>5</th>\n",
       "      <th>6</th>\n",
       "      <th>7</th>\n",
       "      <th>...</th>\n",
       "      <th>2039</th>\n",
       "      <th>2040</th>\n",
       "      <th>2041</th>\n",
       "      <th>2042</th>\n",
       "      <th>2043</th>\n",
       "      <th>2044</th>\n",
       "      <th>2045</th>\n",
       "      <th>2046</th>\n",
       "      <th>2047</th>\n",
       "      <th>label</th>\n",
       "    </tr>\n",
       "  </thead>\n",
       "  <tbody>\n",
       "    <tr>\n",
       "      <th>3</th>\n",
       "      <td>https://www.tuttoandroid.net</td>\n",
       "      <td>94</td>\n",
       "      <td>1</td>\n",
       "      <td>0</td>\n",
       "      <td>0</td>\n",
       "      <td>0</td>\n",
       "      <td>0</td>\n",
       "      <td>1</td>\n",
       "      <td>1</td>\n",
       "      <td>0</td>\n",
       "      <td>...</td>\n",
       "      <td>1</td>\n",
       "      <td>0</td>\n",
       "      <td>1</td>\n",
       "      <td>0</td>\n",
       "      <td>0</td>\n",
       "      <td>0</td>\n",
       "      <td>0</td>\n",
       "      <td>1</td>\n",
       "      <td>1</td>\n",
       "      <td>None</td>\n",
       "    </tr>\n",
       "    <tr>\n",
       "      <th>34</th>\n",
       "      <td>https://www.tuttoandroid.net/author/irven71/</td>\n",
       "      <td>412</td>\n",
       "      <td>0</td>\n",
       "      <td>0</td>\n",
       "      <td>1</td>\n",
       "      <td>1</td>\n",
       "      <td>1</td>\n",
       "      <td>1</td>\n",
       "      <td>1</td>\n",
       "      <td>0</td>\n",
       "      <td>...</td>\n",
       "      <td>1</td>\n",
       "      <td>0</td>\n",
       "      <td>1</td>\n",
       "      <td>1</td>\n",
       "      <td>1</td>\n",
       "      <td>0</td>\n",
       "      <td>1</td>\n",
       "      <td>1</td>\n",
       "      <td>1</td>\n",
       "      <td>None</td>\n",
       "    </tr>\n",
       "    <tr>\n",
       "      <th>66</th>\n",
       "      <td>https://www.tuttoandroid.net/author/rayman50/</td>\n",
       "      <td>419</td>\n",
       "      <td>0</td>\n",
       "      <td>0</td>\n",
       "      <td>1</td>\n",
       "      <td>0</td>\n",
       "      <td>0</td>\n",
       "      <td>1</td>\n",
       "      <td>1</td>\n",
       "      <td>0</td>\n",
       "      <td>...</td>\n",
       "      <td>1</td>\n",
       "      <td>0</td>\n",
       "      <td>1</td>\n",
       "      <td>1</td>\n",
       "      <td>1</td>\n",
       "      <td>0</td>\n",
       "      <td>0</td>\n",
       "      <td>1</td>\n",
       "      <td>1</td>\n",
       "      <td>None</td>\n",
       "    </tr>\n",
       "    <tr>\n",
       "      <th>79</th>\n",
       "      <td>https://www.tuttoandroid.net/tag/g2/</td>\n",
       "      <td>374</td>\n",
       "      <td>0</td>\n",
       "      <td>0</td>\n",
       "      <td>1</td>\n",
       "      <td>0</td>\n",
       "      <td>0</td>\n",
       "      <td>1</td>\n",
       "      <td>1</td>\n",
       "      <td>0</td>\n",
       "      <td>...</td>\n",
       "      <td>1</td>\n",
       "      <td>0</td>\n",
       "      <td>1</td>\n",
       "      <td>1</td>\n",
       "      <td>1</td>\n",
       "      <td>0</td>\n",
       "      <td>1</td>\n",
       "      <td>1</td>\n",
       "      <td>1</td>\n",
       "      <td>None</td>\n",
       "    </tr>\n",
       "    <tr>\n",
       "      <th>102</th>\n",
       "      <td>https://forum.tuttoandroid.net/</td>\n",
       "      <td>2070</td>\n",
       "      <td>1</td>\n",
       "      <td>1</td>\n",
       "      <td>1</td>\n",
       "      <td>1</td>\n",
       "      <td>1</td>\n",
       "      <td>1</td>\n",
       "      <td>1</td>\n",
       "      <td>0</td>\n",
       "      <td>...</td>\n",
       "      <td>1</td>\n",
       "      <td>1</td>\n",
       "      <td>1</td>\n",
       "      <td>1</td>\n",
       "      <td>1</td>\n",
       "      <td>1</td>\n",
       "      <td>0</td>\n",
       "      <td>1</td>\n",
       "      <td>1</td>\n",
       "      <td>None</td>\n",
       "    </tr>\n",
       "  </tbody>\n",
       "</table>\n",
       "<p>5 rows × 2051 columns</p>\n",
       "</div>"
      ],
      "text/plain": [
       "                                               url  tags  0  1  2  3  4  5  6  \\\n",
       "3    https://www.tuttoandroid.net                   94    1  0  0  0  0  1  1   \n",
       "34   https://www.tuttoandroid.net/author/irven71/   412   0  0  1  1  1  1  1   \n",
       "66   https://www.tuttoandroid.net/author/rayman50/  419   0  0  1  0  0  1  1   \n",
       "79   https://www.tuttoandroid.net/tag/g2/           374   0  0  1  0  0  1  1   \n",
       "102  https://forum.tuttoandroid.net/                2070  1  1  1  1  1  1  1   \n",
       "\n",
       "     7  ...    2039  2040  2041  2042  2043  2044  2045  2046  2047  label  \n",
       "3    0  ...    1     0     1     0     0     0     0     1     1     None   \n",
       "34   0  ...    1     0     1     1     1     0     1     1     1     None   \n",
       "66   0  ...    1     0     1     1     1     0     0     1     1     None   \n",
       "79   0  ...    1     0     1     1     1     0     1     1     1     None   \n",
       "102  0  ...    1     1     1     1     1     1     0     1     1     None   \n",
       "\n",
       "[5 rows x 2051 columns]"
      ]
     },
     "execution_count": 19,
     "metadata": {},
     "output_type": "execute_result"
    }
   ],
   "source": [
    "df_with_labels[df_with_labels['label'].isnull()].head()"
   ]
  },
  {
   "cell_type": "markdown",
   "metadata": {},
   "source": [
    "Summary:"
   ]
  },
  {
   "cell_type": "code",
   "execution_count": 20,
   "metadata": {},
   "outputs": [
    {
     "name": "stdout",
     "output_type": "stream",
     "text": [
      "There are 1211 row with no label\n",
      "There are 12020 row with article label\n",
      "There are 5615 row with list label\n"
     ]
    }
   ],
   "source": [
    "fmt_string = 'There are {} row with {} label'\n",
    "print(fmt_string.format(len(df_with_labels[df_with_labels['label'].isnull()]),'no'))\n",
    "print(fmt_string.format(len(df_with_labels[df_with_labels['label']=='article']), 'article'))\n",
    "print(fmt_string.format(len(df_with_labels[df_with_labels['label']=='list']), 'list'))"
   ]
  },
  {
   "cell_type": "markdown",
   "metadata": {},
   "source": [
    "## 4. Clustering\n",
    "---\n",
    "### Splitting the dataset into training set (80%) and test set (20%)"
   ]
  },
  {
   "cell_type": "code",
   "execution_count": 21,
   "metadata": {},
   "outputs": [
    {
     "name": "stdout",
     "output_type": "stream",
     "text": [
      "Training set lenght is 15076\n",
      "Test set lenght is 3770\n"
     ]
    }
   ],
   "source": [
    "from sklearn.model_selection import train_test_split\n",
    "\n",
    "train, test = train_test_split(df_with_labels, test_size = 0.2, random_state = 10)\n",
    "\n",
    "fmt_string = '{} set lenght is {}'\n",
    "\n",
    "print(fmt_string.format('Training', len(train)))\n",
    "print(fmt_string.format('Test', len(test)))"
   ]
  },
  {
   "cell_type": "markdown",
   "metadata": {},
   "source": [
    "### Training"
   ]
  },
  {
   "cell_type": "markdown",
   "metadata": {},
   "source": [
    "Stripping off the ``url``, ``tags`` and ``label`` column from the training set"
   ]
  },
  {
   "cell_type": "code",
   "execution_count": 22,
   "metadata": {},
   "outputs": [
    {
     "data": {
      "text/html": [
       "<div>\n",
       "<style scoped>\n",
       "    .dataframe tbody tr th:only-of-type {\n",
       "        vertical-align: middle;\n",
       "    }\n",
       "\n",
       "    .dataframe tbody tr th {\n",
       "        vertical-align: top;\n",
       "    }\n",
       "\n",
       "    .dataframe thead th {\n",
       "        text-align: right;\n",
       "    }\n",
       "</style>\n",
       "<table border=\"1\" class=\"dataframe\">\n",
       "  <thead>\n",
       "    <tr style=\"text-align: right;\">\n",
       "      <th></th>\n",
       "      <th>0</th>\n",
       "      <th>1</th>\n",
       "      <th>2</th>\n",
       "      <th>3</th>\n",
       "      <th>4</th>\n",
       "      <th>5</th>\n",
       "      <th>6</th>\n",
       "      <th>7</th>\n",
       "      <th>8</th>\n",
       "      <th>9</th>\n",
       "      <th>...</th>\n",
       "      <th>2038</th>\n",
       "      <th>2039</th>\n",
       "      <th>2040</th>\n",
       "      <th>2041</th>\n",
       "      <th>2042</th>\n",
       "      <th>2043</th>\n",
       "      <th>2044</th>\n",
       "      <th>2045</th>\n",
       "      <th>2046</th>\n",
       "      <th>2047</th>\n",
       "    </tr>\n",
       "  </thead>\n",
       "  <tbody>\n",
       "    <tr>\n",
       "      <th>3968</th>\n",
       "      <td>1</td>\n",
       "      <td>0</td>\n",
       "      <td>0</td>\n",
       "      <td>1</td>\n",
       "      <td>0</td>\n",
       "      <td>1</td>\n",
       "      <td>1</td>\n",
       "      <td>1</td>\n",
       "      <td>0</td>\n",
       "      <td>1</td>\n",
       "      <td>...</td>\n",
       "      <td>0</td>\n",
       "      <td>1</td>\n",
       "      <td>0</td>\n",
       "      <td>1</td>\n",
       "      <td>0</td>\n",
       "      <td>0</td>\n",
       "      <td>0</td>\n",
       "      <td>1</td>\n",
       "      <td>1</td>\n",
       "      <td>1</td>\n",
       "    </tr>\n",
       "    <tr>\n",
       "      <th>17412</th>\n",
       "      <td>0</td>\n",
       "      <td>0</td>\n",
       "      <td>1</td>\n",
       "      <td>0</td>\n",
       "      <td>0</td>\n",
       "      <td>1</td>\n",
       "      <td>1</td>\n",
       "      <td>0</td>\n",
       "      <td>0</td>\n",
       "      <td>1</td>\n",
       "      <td>...</td>\n",
       "      <td>0</td>\n",
       "      <td>1</td>\n",
       "      <td>0</td>\n",
       "      <td>1</td>\n",
       "      <td>1</td>\n",
       "      <td>1</td>\n",
       "      <td>0</td>\n",
       "      <td>0</td>\n",
       "      <td>1</td>\n",
       "      <td>1</td>\n",
       "    </tr>\n",
       "    <tr>\n",
       "      <th>2092</th>\n",
       "      <td>1</td>\n",
       "      <td>0</td>\n",
       "      <td>0</td>\n",
       "      <td>1</td>\n",
       "      <td>0</td>\n",
       "      <td>1</td>\n",
       "      <td>1</td>\n",
       "      <td>0</td>\n",
       "      <td>0</td>\n",
       "      <td>1</td>\n",
       "      <td>...</td>\n",
       "      <td>1</td>\n",
       "      <td>1</td>\n",
       "      <td>0</td>\n",
       "      <td>1</td>\n",
       "      <td>0</td>\n",
       "      <td>1</td>\n",
       "      <td>0</td>\n",
       "      <td>0</td>\n",
       "      <td>1</td>\n",
       "      <td>1</td>\n",
       "    </tr>\n",
       "    <tr>\n",
       "      <th>12225</th>\n",
       "      <td>1</td>\n",
       "      <td>0</td>\n",
       "      <td>0</td>\n",
       "      <td>1</td>\n",
       "      <td>1</td>\n",
       "      <td>1</td>\n",
       "      <td>1</td>\n",
       "      <td>0</td>\n",
       "      <td>0</td>\n",
       "      <td>1</td>\n",
       "      <td>...</td>\n",
       "      <td>0</td>\n",
       "      <td>1</td>\n",
       "      <td>0</td>\n",
       "      <td>1</td>\n",
       "      <td>0</td>\n",
       "      <td>1</td>\n",
       "      <td>0</td>\n",
       "      <td>0</td>\n",
       "      <td>1</td>\n",
       "      <td>1</td>\n",
       "    </tr>\n",
       "    <tr>\n",
       "      <th>3407</th>\n",
       "      <td>1</td>\n",
       "      <td>0</td>\n",
       "      <td>0</td>\n",
       "      <td>1</td>\n",
       "      <td>1</td>\n",
       "      <td>1</td>\n",
       "      <td>1</td>\n",
       "      <td>0</td>\n",
       "      <td>0</td>\n",
       "      <td>1</td>\n",
       "      <td>...</td>\n",
       "      <td>1</td>\n",
       "      <td>1</td>\n",
       "      <td>0</td>\n",
       "      <td>1</td>\n",
       "      <td>0</td>\n",
       "      <td>1</td>\n",
       "      <td>0</td>\n",
       "      <td>0</td>\n",
       "      <td>1</td>\n",
       "      <td>1</td>\n",
       "    </tr>\n",
       "  </tbody>\n",
       "</table>\n",
       "<p>5 rows × 2048 columns</p>\n",
       "</div>"
      ],
      "text/plain": [
       "       0  1  2  3  4  5  6  7  8  9  ...   2038  2039  2040  2041  2042  2043  \\\n",
       "3968   1  0  0  1  0  1  1  1  0  1  ...   0     1     0     1     0     0      \n",
       "17412  0  0  1  0  0  1  1  0  0  1  ...   0     1     0     1     1     1      \n",
       "2092   1  0  0  1  0  1  1  0  0  1  ...   1     1     0     1     0     1      \n",
       "12225  1  0  0  1  1  1  1  0  0  1  ...   0     1     0     1     0     1      \n",
       "3407   1  0  0  1  1  1  1  0  0  1  ...   1     1     0     1     0     1      \n",
       "\n",
       "       2044  2045  2046  2047  \n",
       "3968   0     1     1     1     \n",
       "17412  0     0     1     1     \n",
       "2092   0     0     1     1     \n",
       "12225  0     0     1     1     \n",
       "3407   0     0     1     1     \n",
       "\n",
       "[5 rows x 2048 columns]"
      ]
     },
     "execution_count": 22,
     "metadata": {},
     "output_type": "execute_result"
    }
   ],
   "source": [
    "train_ft = train.drop(['url','tags','label'], axis=1)\n",
    "train_ft.head()"
   ]
  },
  {
   "cell_type": "code",
   "execution_count": 23,
   "metadata": {},
   "outputs": [],
   "source": [
    "from sklearn.cluster import KMeans\n",
    "\n",
    "kmeans = KMeans(n_clusters=2, random_state=0).fit(train_ft) #because we found two templates"
   ]
  },
  {
   "cell_type": "markdown",
   "metadata": {},
   "source": [
    "### Simple tests\n",
    "\n",
    "#### Two pages from first peak"
   ]
  },
  {
   "cell_type": "code",
   "execution_count": 63,
   "metadata": {},
   "outputs": [
    {
     "name": "stdout",
     "output_type": "stream",
     "text": [
      "Selected page: https://www.tuttoandroid.net/google/android-q-sfida-le-precedenti-versioni-dellos-in-un-video-speed-test-667434/\n",
      "The above page belongs to cluster 0\n"
     ]
    }
   ],
   "source": [
    "url = 'https://www.tuttoandroid.net/google/android-q-sfida-le-precedenti-versioni-dellos-in-un-video-speed-test-667434/'\n",
    "dataframe_row = df.loc[df['url']==url].drop(['url', 'tags'], axis = 1)\n",
    "cluster_id = kmeans.predict(dataframe_row)\n",
    "print('Selected page: {}'.format(url))\n",
    "print('The above page belongs to cluster {}'.format(cluster_id[0]))"
   ]
  },
  {
   "cell_type": "code",
   "execution_count": 64,
   "metadata": {},
   "outputs": [
    {
     "name": "stdout",
     "output_type": "stream",
     "text": [
      "Selected page: https://www.tuttoandroid.net/samsung/samsung-galaxy-note-10-potrebbe-essere-il-primo-smartphone-senza-tasti-di-samsung-667545/\n",
      "The above page belongs to cluster 0\n"
     ]
    }
   ],
   "source": [
    "url = 'https://www.tuttoandroid.net/samsung/samsung-galaxy-note-10-potrebbe-essere-il-primo-smartphone-senza-tasti-di-samsung-667545/'\n",
    "dataframe_row = df.loc[df['url']==url].drop(['url', 'tags'], axis = 1)\n",
    "cluster_id = kmeans.predict(dataframe_row)\n",
    "print('Selected page: {}'.format(url))\n",
    "print('The above page belongs to cluster {}'.format(cluster_id[0]))"
   ]
  },
  {
   "cell_type": "markdown",
   "metadata": {},
   "source": [
    "#### Two pages from the second peak"
   ]
  },
  {
   "cell_type": "code",
   "execution_count": 65,
   "metadata": {},
   "outputs": [
    {
     "name": "stdout",
     "output_type": "stream",
     "text": [
      "Selected page: https://www.tuttoandroid.net/oneplus/page/5/\n",
      "The above page belongs to cluster 1\n"
     ]
    }
   ],
   "source": [
    "url = 'https://www.tuttoandroid.net/oneplus/page/5/'\n",
    "dataframe_row = df.loc[df['url']==url].drop(['url', 'tags'], axis = 1)\n",
    "cluster_id = kmeans.predict(dataframe_row)\n",
    "print('Selected page: {}'.format(url))\n",
    "print('The above page belongs to cluster {}'.format(cluster_id[0]))"
   ]
  },
  {
   "cell_type": "code",
   "execution_count": 66,
   "metadata": {},
   "outputs": [
    {
     "name": "stdout",
     "output_type": "stream",
     "text": [
      "Selected page: https://www.tuttoandroid.net/author/gerrymcfly/\n",
      "The above page belongs to cluster 1\n"
     ]
    }
   ],
   "source": [
    "url = 'https://www.tuttoandroid.net/author/gerrymcfly/'\n",
    "dataframe_row = df.loc[df['url']==url].drop(['url', 'tags'], axis = 1)\n",
    "cluster_id = kmeans.predict(dataframe_row)\n",
    "print('Selected page: {}'.format(url))\n",
    "print('The above page belongs to cluster {}'.format(cluster_id[0]))"
   ]
  },
  {
   "cell_type": "markdown",
   "metadata": {},
   "source": [
    "#### Two pages from different peaks"
   ]
  },
  {
   "cell_type": "code",
   "execution_count": 67,
   "metadata": {},
   "outputs": [
    {
     "name": "stdout",
     "output_type": "stream",
     "text": [
      "Selected page: https://www.tuttoandroid.net/android/cosa-ci-aspetta-nella-r23-del-desire-port-su-nexus-one-9478/\n",
      "The above page belongs to cluster 0\n"
     ]
    }
   ],
   "source": [
    "url = 'https://www.tuttoandroid.net/android/cosa-ci-aspetta-nella-r23-del-desire-port-su-nexus-one-9478/'\n",
    "dataframe_row = df.loc[df['url']==url].drop(['url', 'tags'], axis = 1)\n",
    "cluster_id = kmeans.predict(dataframe_row)\n",
    "print('Selected page: {}'.format(url))\n",
    "print('The above page belongs to cluster {}'.format(cluster_id[0]))"
   ]
  },
  {
   "cell_type": "code",
   "execution_count": 68,
   "metadata": {},
   "outputs": [
    {
     "name": "stdout",
     "output_type": "stream",
     "text": [
      "Selected page: https://www.tuttoandroid.net/tag/chromecast/\n",
      "The above page belongs to cluster 1\n"
     ]
    }
   ],
   "source": [
    "url = 'https://www.tuttoandroid.net/tag/chromecast/'\n",
    "dataframe_row = df.loc[df['url']==url].drop(['url', 'tags'], axis = 1)\n",
    "cluster_id = kmeans.predict(dataframe_row)\n",
    "print('Selected page: {}'.format(url))\n",
    "print('The above page belongs to cluster {}'.format(cluster_id[0]))"
   ]
  },
  {
   "cell_type": "markdown",
   "metadata": {},
   "source": [
    "## 5. Evaluation: Recall and precision\n",
    "\n",
    "As said before there are some pages which aren't labeled, so we must delete them from the test set."
   ]
  },
  {
   "cell_type": "code",
   "execution_count": 30,
   "metadata": {},
   "outputs": [
    {
     "name": "stdout",
     "output_type": "stream",
     "text": [
      "Test set lenght before cleaning is 3770\n",
      "The number of unlabeled rows is 274\n",
      "Test set lenght after cleaning is 3496\n"
     ]
    }
   ],
   "source": [
    "fmt_string = '{} set lenght {} cleaning is {}'\n",
    "\n",
    "print(fmt_string.format('Test', 'before', len(test)))\n",
    "print('The number of unlabeled rows is {}'.format(len(test.loc[test['label'].isnull()])))\n",
    "\n",
    "test = test.dropna()\n",
    "\n",
    "print(fmt_string.format('Test', 'after', len(test)))"
   ]
  },
  {
   "cell_type": "markdown",
   "metadata": {},
   "source": [
    "Predict test set page label using kmeans:"
   ]
  },
  {
   "cell_type": "code",
   "execution_count": 31,
   "metadata": {},
   "outputs": [
    {
     "name": "stdout",
     "output_type": "stream",
     "text": [
      "[1 0 0 ... 1 1 1]\n"
     ]
    }
   ],
   "source": [
    "prediction = kmeans.predict(test.drop(['url','tags','label'], axis =1))\n",
    "print(prediction)"
   ]
  },
  {
   "cell_type": "code",
   "execution_count": 53,
   "metadata": {},
   "outputs": [],
   "source": [
    "pages_retrieved_for_article_query = 0\n",
    "pages_retrieved_for_list_query = 0\n",
    "\n",
    "true_positive = 0\n",
    "true_negative =0\n",
    "\n",
    "all_positives = len(test[test['label']=='article'])\n",
    "all_negatives = len(test[test['label']=='list'])\n",
    "\n",
    "for index, cluster_id in enumerate(prediction):\n",
    "    if cluster_id:\n",
    "        pages_retrieved_for_list_query = pages_retrieved_for_list_query + 1\n",
    "        if test.iloc[index]['label'] == 'list':\n",
    "            true_negative = true_negative + 1\n",
    "    else:\n",
    "        pages_retrieved_for_article_query = pages_retrieved_for_article_query + 1\n",
    "        if test.iloc[index]['label'] == 'article':\n",
    "            true_positive = true_positive + 1"
   ]
  },
  {
   "cell_type": "code",
   "execution_count": 54,
   "metadata": {},
   "outputs": [
    {
     "name": "stdout",
     "output_type": "stream",
     "text": [
      "+---------+--------+-----------+\n",
      "|    -    | Recall | Precision |\n",
      "+---------+--------+-----------+\n",
      "| Article |  0.943 |     0.995 |\n",
      "| List    |  0.989 |     0.887 |\n",
      "+---------+--------+-----------+\n"
     ]
    }
   ],
   "source": [
    "article_precision = true_positive/pages_retrieved_for_article_query\n",
    "article_recall = true_positive/all_positives\n",
    "\n",
    "list_precision = true_negative/pages_retrieved_for_list_query\n",
    "list_recall = true_negative/all_negatives\n",
    "\n",
    "print(\"+---------+--------+-----------+\")\n",
    "print(\"|    -    | Recall | Precision |\")\n",
    "print(\"+---------+--------+-----------+\")\n",
    "print(\"| {} |  {} |     {} |\".format('Article', round(article_recall,3), round(article_precision,3)))\n",
    "print(\"| {}    |  {} |     {} |\".format('List', round(list_recall,3), round(list_precision,3)))\n",
    "print(\"+---------+--------+-----------+\")"
   ]
  },
  {
   "cell_type": "markdown",
   "metadata": {},
   "source": [
    "## 6. Display clusters"
   ]
  },
  {
   "cell_type": "code",
   "execution_count": null,
   "metadata": {},
   "outputs": [],
   "source": [
    "from sklearn.decomposition import PCA\n",
    "from sklearn.preprocessing import StandardScaler\n",
    "\n",
    "X_std = StandardScaler().fit_transform(train_ft)\n",
    "reduced_data = PCA(n_components=2).fit_transform(X_std)\n",
    "kmeans_2 = KMeans(n_clusters=2, random_state=0)\n",
    "kmeans_2.fit(reduced_data)"
   ]
  },
  {
   "cell_type": "code",
   "execution_count": null,
   "metadata": {},
   "outputs": [],
   "source": [
    "centroids = kmeans_2.cluster_centers_"
   ]
  },
  {
   "cell_type": "code",
   "execution_count": null,
   "metadata": {},
   "outputs": [],
   "source": [
    "fig, ax = plt.subplots(figsize=(12, 12))\n",
    "plt.scatter(reduced_data[kmeans_2.labels_ == 0, 0], reduced_data[kmeans_2.labels_ == 0, 1],\n",
    "            c='green', label='cluster 1')\n",
    "plt.scatter(reduced_data[kmeans_2.labels_ == 1, 0], reduced_data[kmeans_2.labels_ == 1, 1],\n",
    "            c='blue', label='cluster 2')\n",
    "plt.scatter(centroids[:, 0], centroids[:, 1], marker='*', s=300,\n",
    "            c='r', label='centroid')\n",
    "\n",
    "plt.legend()\n",
    "plt.title('Visualization of clustered data', fontweight='bold')\n",
    "ax.set_aspect('equal');"
   ]
  }
 ],
 "metadata": {
  "kernelspec": {
   "display_name": "Python 3",
   "language": "python",
   "name": "python3"
  },
  "language_info": {
   "codemirror_mode": {
    "name": "ipython",
    "version": 3
   },
   "file_extension": ".py",
   "mimetype": "text/x-python",
   "name": "python",
   "nbconvert_exporter": "python",
   "pygments_lexer": "ipython3",
   "version": "3.7.1"
  }
 },
 "nbformat": 4,
 "nbformat_minor": 2
}
